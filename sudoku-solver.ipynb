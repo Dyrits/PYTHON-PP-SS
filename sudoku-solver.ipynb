{
 "cells": [
  {
   "cell_type": "markdown",
   "metadata": {},
   "source": [
    "# SUDOKU SOLVER"
   ]
  },
  {
   "cell_type": "markdown",
   "metadata": {},
   "source": [
    "First, we need to create the grid we want to solve.\n",
    "We have to type it manually, since we don't have any user interface. \n",
    "\n",
    "We are using a list including 9 sublists. Each of this sublist is made of 9 integers.   \n",
    "The first sublist is the first row of the sudoku grid.  \n",
    "The second sublist is the second row of the sudoku grid.  \n",
    "Etc...  \n",
    "Up to the ninth sublist.  \n",
    "\n",
    "We fill every empty cell with a zero.\n",
    "\n",
    "We end up with 81 integers.\n",
    "\n",
    "Here is an example :"
   ]
  },
  {
   "cell_type": "code",
   "execution_count": null,
   "metadata": {},
   "outputs": [],
   "source": [
    "Grid = [\n",
    "    [0, 3, 2, 0, 0, 0, 5, 0, 0],\n",
    "    [4, 0, 0, 2, 0, 0, 0, 8, 0],\n",
    "    [0, 0, 0, 0, 0, 0, 4, 7, 0],\n",
    "    [5, 2, 0, 0, 7, 0, 0, 0, 4],\n",
    "    [0, 0, 0, 1, 0, 6, 0, 0, 0],\n",
    "    [7, 0, 0, 0, 5, 0, 0, 3, 9],\n",
    "    [0, 9, 7, 0, 0 ,0, 0, 0, 0],\n",
    "    [0, 6, 0, 0, 0, 3, 0, 0, 5],\n",
    "    [0, 0, 5, 0, 0, 0, 7, 9, 0]\n",
    "    ]"
   ]
  },
  {
   "cell_type": "markdown",
   "metadata": {},
   "source": [
    "If we want to display the list using the `print` function, it will not do it as a grid but as a list:"
   ]
  },
  {
   "cell_type": "code",
   "execution_count": null,
   "metadata": {},
   "outputs": [],
   "source": [
    "print(Grid)"
   ]
  },
  {
   "cell_type": "markdown",
   "metadata": {},
   "source": [
    "To display it properly, we can use :"
   ]
  },
  {
   "cell_type": "code",
   "execution_count": null,
   "metadata": {},
   "outputs": [],
   "source": [
    "print(*Grid, sep=\"\\n\")"
   ]
  },
  {
   "cell_type": "markdown",
   "metadata": {},
   "source": [
    "Note: We will now use \"grid\" to refer to the list and \"rows\" to refer to the sublists.\n",
    "\n",
    "We will work on our grid, so we need to make a copy of it, to retain the original values.\n",
    "We are using a loop with the `for` function to copy one by one each row of the grid as independent copy:"
   ]
  },
  {
   "cell_type": "code",
   "execution_count": null,
   "metadata": {},
   "outputs": [],
   "source": [
    "GridCopy = [R[:] for R in Grid]"
   ]
  },
  {
   "cell_type": "markdown",
   "metadata": {},
   "source": [
    "The grid includes 81 entries from 0 to 80.  We will use the variable `N` to refer to this number.  \n",
    "`N`is located in between `Grid[0]|0]` (which is the location of `N` when equals to 0) and `Grid[8][8]`(which is the location of `N` when equals to 80). \n",
    "We need to be able to identify the indexes (for the row and column) for any given `N` value.  \n",
    "\n",
    "The first row is numbered from 0 to 8. Its index is `Grid[0]|0:8]`. `N // 9` is always equal to 0 in this row.    \n",
    "The second row is numbered from 9 to 17.  Its index is `Grid[1]|0:8]`. `N // 9` is always equal to 1 in this row.   \n",
    "Etc...  \n",
    "Up to the ninth row which is numbered from 71 to 80.  Its index is `Grid[8]|0:8]`. `N // 9` is always equal to 8 in this row.   \n",
    "\n",
    "As we can see, `N // 9` is always equal to the index of the row. The modulo `N % 9` is always equal to the index positioning `N` among the row (corresponding to its position as a column).\n",
    "\n",
    "We are creating the function `IR` and `IC`:"
   ]
  },
  {
   "cell_type": "code",
   "execution_count": null,
   "metadata": {},
   "outputs": [],
   "source": [
    "#Index (Row):\n",
    "IR = lambda N : N // 9\n",
    "#Index (Column):\n",
    "IC = lambda N : N % 9"
   ]
  },
  {
   "cell_type": "markdown",
   "metadata": {},
   "source": [
    "Note: We used`lambda` to create a simple function.  \n",
    "It could also be written that way with `def`:"
   ]
  },
  {
   "cell_type": "code",
   "execution_count": null,
   "metadata": {},
   "outputs": [],
   "source": [
    "def IR(N):\n",
    "    IR = N // 9\n",
    "    return IR\n",
    "\n",
    "def IC(N):\n",
    "    IC = N % 9\n",
    "    return IC"
   ]
  },
  {
   "cell_type": "markdown",
   "metadata": {},
   "source": [
    "We can deduce that `Grid[IR(N)][IC(N)]` determines the value of an entry at the location of `N`.  \n",
    "\n",
    "We create another function for that:"
   ]
  },
  {
   "cell_type": "code",
   "execution_count": null,
   "metadata": {},
   "outputs": [],
   "source": [
    "NValue = lambda G, N : G[IR(N)][IC(N)]"
   ]
  },
  {
   "cell_type": "markdown",
   "metadata": {},
   "source": [
    "A sudoku grid is made of 9 subgrids, 9 rows and 9 columns. \n",
    "We need to create a function to isolate each one of the element according to `N` in order to know if `NValue(N)`is already among it or not.\n",
    "\n",
    "The starting point of a subgrid is located at `[IR(N)] // 3 * 3` and `[IC(N)] // 3 * 3` which can be equal to 0, 3, or 6, the maximum index of a row or column being 8.\n",
    "From that location, we need to select the 3 next entries in the range `[IC(N):IC(N)+3]`, then repeat the operation 2 times in the rows below.  \n",
    "We create a function to return the 9 entries from the subgrid as a list:"
   ]
  },
  {
   "cell_type": "code",
   "execution_count": null,
   "metadata": {},
   "outputs": [],
   "source": [
    "def SubGrid(G, N):\n",
    "    ISR = IR(N) // 3 * 3\n",
    "    ISC = IC(N) // 3 * 3\n",
    "    SubGrid = []\n",
    "    for R in range(0, 3):\n",
    "        SubGrid += G[ISR+R][ISC:ISC+3]\n",
    "    return SubGrid"
   ]
  },
  {
   "cell_type": "markdown",
   "metadata": {},
   "source": [
    "We also create functions to isolate the row and column concerned by `N` as lists of 9 entries:"
   ]
  },
  {
   "cell_type": "code",
   "execution_count": null,
   "metadata": {},
   "outputs": [],
   "source": [
    "Row = lambda G, N : G[IR(N)][0:9]\n",
    "Column = lambda G, N : [R[IC(N)] for R in G]"
   ]
  },
  {
   "cell_type": "markdown",
   "metadata": {},
   "source": [
    "We set different variables for the loop and set the initial value of `N` to 0.  \n",
    "`Next` and `Previous` are used to determined if we are going through the grid forward or backward."
   ]
  },
  {
   "cell_type": "code",
   "execution_count": null,
   "metadata": {},
   "outputs": [],
   "source": [
    "Next = True\n",
    "Previous = False\n",
    "N = 0"
   ]
  },
  {
   "cell_type": "markdown",
   "metadata": {},
   "source": [
    "The following cell contains a commented explanation of the loop we are using to solve the sudoku:"
   ]
  },
  {
   "cell_type": "code",
   "execution_count": null,
   "metadata": {},
   "outputs": [],
   "source": [
    "while N < 81:\n",
    "#The grid includes 81 entries from 0 to 80. As long as N is less than 81, the loop will be running forward or backward.\n",
    "\n",
    "#Forwards conditions :\n",
    "\n",
    "    if NValue(GridCopy, N) != 0 and Next:\n",
    "    #We are checking if the value of the entry in the copy of the grid is 0. We use the copy because it will keep the original values and not be modified.\n",
    "        N += 1\n",
    "        #If N is not 0, the value is a pre-established one, and we skip it. \n",
    "\n",
    "    elif NValue(GridCopy, N) == 0 and Next:\n",
    "    #If the value of the entry is 0, we will proceed.\n",
    "\n",
    "        for NSolved in range(1, 10):\n",
    "        #The value of the entry, once solved, can only be between 1 and 9. \n",
    "            \n",
    "            #We check every number until we find one fitting the following condition:\n",
    "            if NSolved not in SubGrid(Grid, N) and NSolved not in Row(Grid, N) and NSolved not in Column(Grid, N):\n",
    "            #We check if the value of the entry is not already in the subgrid, row and column. \n",
    "                #If not, we can proceed by updating the value:\n",
    "                Grid[IR(N)][IC(N)] = NSolved\n",
    "                #We itterate, and exit the loop:\n",
    "                N += 1\n",
    "                break\n",
    "\n",
    "            #If the value of the entry already exists in the subgrid, row or column:\n",
    "            else:\n",
    "                if NSolved == 9:\n",
    "                #We reach the end of the allowed range without any valid value.\n",
    "                    #We need to go back to the previous entry:\n",
    "                    #We update the variables to go backward, and exit the loop:\n",
    "                    Next = False\n",
    "                    Previous = True\n",
    "                    N -= 1\n",
    "                    break\n",
    "\n",
    "#Backwards conditions :\n",
    "\n",
    "    elif NValue(GridCopy, N) != 0 and Previous:\n",
    "        N -= 1\n",
    "        #If the value of the entry is not 0, the value is a pre-established one, and we skip it, going backwards once more.\n",
    "    \n",
    "    #If the value of the entry is 0:\n",
    "    elif NValue(GridCopy, N) == 0 and Previous:\n",
    "        \n",
    "        if Grid[IR(N)][IC(N)] == 9:\n",
    "            Grid[IR(N)][IC(N)] = 0\n",
    "            #If the value of N is not a pre-established one but already reached 9, we set it back to 0 because we can't go higher. Then, we go backwards once more:\n",
    "            N -= 1\n",
    "        \n",
    "        else:\n",
    "            for NSolved in range(NValue(Grid, N)+1, 10):\n",
    "            #The value of N, once solved, can only be between 1 and 9. Since we already went backwards, we are testing a new value incrementing (one by one) the previous value up to 9.\n",
    "               \n",
    "                if NSolved not in SubGrid(Grid, N) and NSolved not in Row(Grid, N) and NSolved not in Column(Grid, N):\n",
    "                #We check if the value of the entry is not already in the subgrid, row and column. \n",
    "                    #If not, we can proceed by updating the value:\n",
    "                    Grid[IR(N)][IC(N)] = NSolved\n",
    "                    #We update the variables to go forward, and exit the loop:\n",
    "                    Next = True\n",
    "                    Previous = False\n",
    "                    N += 1\n",
    "                    break\n",
    "\n",
    "                #If the new value of the entry already exists in the subgrid, row or column:\n",
    "                else:\n",
    "                    if NSolved == 9:\n",
    "                    #We reach the end of the allowed range without any new valid value.\n",
    "                        #We need to reset the value to 0 and go back the previous entry, then exit the loop:\n",
    "                        Grid[IR(N)][IC(N)] = 0\n",
    "                        N -= 1\n",
    "                        break\n",
    "\n",
    "#Once the loop is over, we print the results:\n",
    "print(\"The sudoku is solved!\")\n",
    "print(\"Solution:\")\n",
    "print(*Grid, sep=\"\\n\")"
   ]
  }
 ],
 "metadata": {
  "kernelspec": {
   "display_name": "Python",
   "language": "python",
   "name": "conda-env-python-py"
  },
  "language_info": {
   "codemirror_mode": {
    "name": "ipython",
    "version": 3
   },
   "file_extension": ".py",
   "mimetype": "text/x-python",
   "name": "python",
   "nbconvert_exporter": "python",
   "pygments_lexer": "ipython3",
   "version": "3.6.7"
  }
 },
 "nbformat": 4,
 "nbformat_minor": 4
}
